{
 "cells": [
  {
   "cell_type": "markdown",
   "id": "3eb2fc26",
   "metadata": {},
   "source": [
    "Conexión y AOIs"
   ]
  },
  {
   "cell_type": "code",
   "execution_count": null,
   "id": "0f18c0f3",
   "metadata": {},
   "outputs": [
    {
     "data": {
      "text/html": [
       "Visit <a href=\"https://identity.dataspace.copernicus.eu/auth/realms/CDSE/device?user_code=FNDE-MZBI\" title=\"Authenticate at https://identity.dataspace.copernicus.eu/auth/realms/CDSE/device?user_code=FNDE-MZBI\" target=\"_blank\" rel=\"noopener noreferrer\">https://identity.dataspace.copernicus.eu/auth/realms/CDSE/device?user_code=FNDE-MZBI</a> <a href=\"#\" onclick=\"navigator.clipboard.writeText('https://identity.dataspace.copernicus.eu/auth/realms/CDSE/device?user_code=FNDE-MZBI');return false;\" title=\"Copy authentication URL to clipboard\">&#128203;</a> to authenticate."
      ]
     },
     "metadata": {},
     "output_type": "display_data"
    },
    {
     "data": {
      "text/html": [
       "<code>[###################################--]</code> ⌛ Authorization pending"
      ]
     },
     "metadata": {},
     "output_type": "display_data"
    }
   ],
   "source": [
    "import openeo, numpy as np, rasterio, pandas as pd, matplotlib.pyplot as plt\n",
    "from datetime import date, timedelta\n",
    "from shapely.geometry import box\n",
    "import os, json\n",
    "\n",
    "# Conectar (abrirá OIDC)\n",
    "connection = openeo.connect(\"https://openeo.dataspace.copernicus.eu\").authenticate_oidc()\n",
    "\n",
    "# AOIs del enunciado\n",
    "lago_atitlan = {\"west\": -91.326256, \"east\": -91.07151, \"south\": 14.5948, \"north\": 14.750979}\n",
    "lago_amatitlan = {\"west\": -90.638065, \"east\": -90.512924, \"south\": 14.412347, \"north\": 14.493799}\n",
    "\n",
    "# Fechas con nubosidad <20% (tu lista)\n",
    "good_dates = [\n",
    "\"2025-02-07\",\"2025-02-10\",\"2025-02-25\",\"2025-02-27\",\"2025-03-02\",\"2025-03-04\",\"2025-03-07\",\"2025-03-09\",\n",
    "\"2025-03-12\",\"2025-03-14\",\"2025-03-19\",\"2025-03-22\",\"2025-03-24\",\"2025-03-26\",\"2025-04-03\",\"2025-04-11\",\n",
    "\"2025-04-13\",\"2025-04-15\",\"2025-04-16\",\"2025-04-18\",\"2025-04-28\",\"2025-05-03\",\"2025-05-13\",\"2025-05-28\",\n",
    "\"2025-07-10\",\"2025-07-17\",\"2025-07-20\",\"2025-07-24\",\"2025-08-01\"\n",
    "]\n"
   ]
  },
  {
   "cell_type": "markdown",
   "id": "4a531070",
   "metadata": {},
   "source": [
    "2) Descarga por fecha y lago (GeoTIFF multibanda)\n",
    "\n",
    "    Para NDCI/Chl-a se necesita: B04, B05, y para máscara/índices también B02, B03, B07, B8A, B08, B11, B12."
   ]
  }
 ],
 "metadata": {
  "kernelspec": {
   "display_name": "Python 3",
   "language": "python",
   "name": "python3"
  },
  "language_info": {
   "codemirror_mode": {
    "name": "ipython",
    "version": 3
   },
   "file_extension": ".py",
   "mimetype": "text/x-python",
   "name": "python",
   "nbconvert_exporter": "python",
   "pygments_lexer": "ipython3",
   "version": "3.10.0"
  }
 },
 "nbformat": 4,
 "nbformat_minor": 5
}
